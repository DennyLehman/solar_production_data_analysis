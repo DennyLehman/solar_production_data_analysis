{
 "cells": [
  {
   "cell_type": "markdown",
   "metadata": {},
   "source": [
    "# Solar Production Data Analysis\n",
    "\n",
    "## Objective\n",
    "This notebook will analysis solar production data using the data science lifecyce outlined here: link\n",
    "https://docs.google.com/document/d/1gKr6j7s02hjilNhqYrjDK7t6jqR092hzezn-MB09EZo/edit#heading=h.mbjsiz6n6jlo\n",
    "\n",
    "## Contents:\n",
    "1. Business Understanding\n",
    "2. Data Understanding\n",
    "3. Data Preparation\n",
    "4. Modeling\n",
    "5. Evaluation\n",
    "6. Deployment\n",
    "\n",
    "python version: 3.9.0\n",
    "\n",
    "requirements:\n",
    "see imports"
   ]
  },
  {
   "cell_type": "markdown",
   "metadata": {},
   "source": [
    "## 1 Business Understanding\n",
    "### Sections\n",
    "#### 1.1 Question Definition\n",
    "First, define your question(s) of interest from a business perspective. \n",
    "#### 1.2 Success Criteria\n",
    "What is the goal of the project you propose, and what are the criteria for a successful or useful outcome? Assess the situation, including resources, constraints, assumptions, requirements. \n",
    "#### 1.3 Statistical Criteria \n",
    "Then, translate business objective(s) and metric(s) for success to data mining goals. If the business goal is to increase sales, the data mining goal might be to predict variance in sales based on advertising money spent, production costs, etc. \n",
    "#### 1.4 Project Plan\n",
    "Finally, produce a project plan specifying the steps to be taken throughout the rest of the project, including initial assessment of tools and techniques, durations, dependencies, etc.\n",
    "\n",
    "What is the goal of this project?\n",
    "What are the criteria for a successful outcome?\n",
    "\n",
    "Business goals are:\n",
    "What will the production be of a new system?\n",
    "What will the performance be of a new system?\n",
    "\n",
    "Other questions to answer if time permits:\n",
    "What is the quality of the data?\n",
    "understand the fleet better - how many systems, when were they installed\n",
    "indentify and predict poor performance?\n",
    "how might we improve performance?\n",
    "Can we predict future production?\n",
    "\n"
   ]
  },
  {
   "cell_type": "markdown",
   "metadata": {},
   "source": [
    "## 1.1 Question Definition\n",
    "First, define your question(s) of interest from a business perspective."
   ]
  },
  {
   "cell_type": "markdown",
   "metadata": {},
   "source": [
    "Solar systems convert light energy from the sun to electricity. The amount of electricity produced is called \"production\" and the amount of electricity produced in reality compared to expectation is called \"performance\".\n",
    "A commercial and residential solar installer is interested to learn if they can predict the production and performance of a new solar system. They have provided data on the production and performance of their fleet with the hopes that it can be used as training data for a model. Among other things, the model and analysis should tell them basic information, like growth of their fleet, average performance, and top performing systems, but also advanced statistics, like if the financial company is correlated to performance, which months are the best to install a new system, and what is the best estimation for annual degradation."
   ]
  },
  {
   "cell_type": "markdown",
   "metadata": {},
   "source": [
    "## 1.2 Success Criteria\n",
    "What is the goal of the project you propose, and what are the criteria for a successful or useful outcome? Assess the situation, including resources, constraints, assumptions, requirements. "
   ]
  },
  {
   "cell_type": "markdown",
   "metadata": {},
   "source": [
    "#### 1.2.1 Goal\n",
    "#### 1.2.2 Criteria for success\n",
    "#### 1.2.3 Resources\n",
    "#### 1.2.4 Constraints\n",
    "#### 1.2.5 Assumptions\n",
    "#### 1.2.6 Requirements"
   ]
  },
  {
   "cell_type": "markdown",
   "metadata": {},
   "source": [
    "## 1.3 Statistical Criteria \n",
    "Then, translate business objective(s) and metric(s) for success to data mining goals. If the business goal is to increase sales, the data mining goal might be to predict variance in sales based on advertising money spent, production costs, etc."
   ]
  },
  {
   "cell_type": "markdown",
   "metadata": {},
   "source": [
    "## Load Data"
   ]
  },
  {
   "cell_type": "code",
   "execution_count": null,
   "metadata": {},
   "outputs": [],
   "source": [
    "df = pd.import_data()"
   ]
  },
  {
   "cell_type": "markdown",
   "metadata": {},
   "source": [
    "## 2 Data Understanding\n",
    "### 2.1 List all datasets required\n",
    "Collect initial data and list all datasets acquired, locations, methods of acquisition, and any problems encountered. \n",
    "### 2.2 Gross properties of the data\n",
    " Describe the gross properties of the data, including its format, shape, field identities, etc.\n",
    "### 2.3 Feature Analysis\n",
    "Explore key attributes, simple statistics, visualizations. Identify potential relationships and interesting data characteristics to inform initial hypotheses. \n",
    "#### 2.3.1 Portfolio\n",
    "#### 2.3.2 Holding Co\n",
    "#### 2.3.3 Project Co\n",
    "#### 2.3.4 Contract id\n",
    "#### 2.3.5 Date\n",
    "#### 2.3.6 Production\n",
    "### 2.4 Summary on Data Quality\n",
    "In this section, I'll examine the quality of the data, e.g. completeness, consistency, formatting, and report any potential problems and solutions.\n",
    "\n"
   ]
  },
  {
   "cell_type": "markdown",
   "metadata": {},
   "source": [
    "# 3 Data Preparation\n",
    "## 3.1 Feature Selection\n",
    "Determine which data will be used (selection of attributes/columns and observations/rows) and document reasons for inclusion or exclusion. \n",
    "## 3.2 Data Cleaning\n",
    "Clean the data and describe actions taken. Techniques could include selection of subsets for examination, insertion of defaults or estimations using modelling for missing values. Note outliers/anomalies and potential impacts of these transformations on analysis results. \n",
    "## 3.3 Feature Engineering\n",
    "It may be useful to derive new attributes from the data as combinations of existing attributes, and describe their creation. It may also be useful to merge or aggregate datasets, in which case you should be careful of duplicate values. \n",
    "## 3.4 Data Reformating\n",
    "Finally, re-format the data as necessary (e.g. shuffling the order of inputs to a neural network or making syntactic changes like trimming field lengths)."
   ]
  },
  {
   "cell_type": "markdown",
   "metadata": {},
   "source": [
    "# 4 Modelling\n",
    "## 4.1 Model Selection\n",
    "Select and document any modeling techniques to be used (regression, decision tree, neural network) along with assumptions made (uniform distribution, data type). \n",
    "## 4.2 Test Design\n",
    "Before building the model, generate test design - will you need to split your data (e.g. into training, test, and validation sets), and if so, how? \n",
    "## 4.3 Parameter tuning\n",
    "Next, run the selected modeling tool(s) on your data, list parameters used with justifications, and describe and interpret resulting models. \n",
    "## 4.4 Model Evaluation\n",
    "Generally, you want to run different models with different parameters, then compare the results across the evaluation criteria established in earlier steps. Assess the quality or accuracy of each model, revise and tune iteratively.\n"
   ]
  },
  {
   "cell_type": "markdown",
   "metadata": {},
   "source": [
    "# 5 Evaluation\n",
    "## 5.1 Results\n",
    "Summarize the results of the previous step in business terms - how well were your business objective(s) met? Models that meet business success criteria become approved models. \n",
    "## 5.2 Summary\n",
    "After selecting appropriate models, review the work accomplished. Make sure models were correctly built, no important factors or tasks were overlooked, and all data are accessible/replicable for future analyses. \n",
    "## 5.3 Next Steps\n",
    "Depending on assessed results, decide next steps, whether to move on to deployment, initiate further iterations, or move on to new data mining projects."
   ]
  },
  {
   "cell_type": "markdown",
   "metadata": {},
   "source": [
    "# 6 Deployment\n",
    "## 6.1 Deployment Plan\n",
    "Develop a plan for deploying relevant model(s). \n",
    "## 6.2 Monitoring Plan\n",
    "Further develop a monitoring and maintenance plan to ensure correct usage of data mining results and avoid issues during the operational phase of model(s). \n",
    "## 6.3 Conduct Retrospective\n",
    "Summarize results, conclusions and deliverables. Conduct any necessary retrospective analysis of what went well, what could be improved, and general experience documentation."
   ]
  },
  {
   "cell_type": "code",
   "execution_count": null,
   "metadata": {},
   "outputs": [],
   "source": []
  }
 ],
 "metadata": {
  "kernelspec": {
   "display_name": "Python 3",
   "language": "python",
   "name": "python3"
  },
  "language_info": {
   "codemirror_mode": {
    "name": "ipython",
    "version": 3
   },
   "file_extension": ".py",
   "mimetype": "text/x-python",
   "name": "python",
   "nbconvert_exporter": "python",
   "pygments_lexer": "ipython3",
   "version": "3.7.3"
  }
 },
 "nbformat": 4,
 "nbformat_minor": 4
}
